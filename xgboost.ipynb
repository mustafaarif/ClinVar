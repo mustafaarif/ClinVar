{
 "cells": [
  {
   "cell_type": "markdown",
   "metadata": {},
   "source": [
    "<h2>Introduction</h2>"
   ]
  },
  {
   "cell_type": "markdown",
   "metadata": {},
   "source": [
    "<p>Xgboost on clinvar dataset.</p>\n",
    "<p>Classes are Pathogenic vs Non-Pathogenic</p>"
   ]
  },
  {
   "cell_type": "markdown",
   "metadata": {},
   "source": [
    "<h3> Load Libraries </h3>"
   ]
  },
  {
   "cell_type": "code",
   "execution_count": 35,
   "metadata": {},
   "outputs": [
    {
     "name": "stdout",
     "output_type": "stream",
     "text": [
      "numpy Version: 1.18.1\n",
      "pandas Version: 0.25.3\n",
      "Scikit-Learn Version: 0.21.3\n",
      "XGBoost Version: 1.0.2\n"
     ]
    }
   ],
   "source": [
    "import time\n",
    "import numpy as np; print('numpy Version:', np.__version__)\n",
    "import pandas as pd; print('pandas Version:', pd.__version__)\n",
    "import sklearn; print('Scikit-Learn Version:', sklearn.__version__)\n",
    "import xgboost as xgb; print('XGBoost Version:', xgb.__version__)\n",
    "from pathlib import Path\n",
    "from sklearn.metrics import classification_report\n",
    "from sklearn.metrics import confusion_matrix\n",
    "from sklearn.model_selection import cross_val_score\n",
    "from sklearn.metrics import accuracy_score"
   ]
  },
  {
   "cell_type": "markdown",
   "metadata": {},
   "source": [
    "<h3> Load Data </h3>"
   ]
  },
  {
   "cell_type": "code",
   "execution_count": 36,
   "metadata": {},
   "outputs": [],
   "source": [
    "# Specify data path where datasets are placed\n",
    "data_dir = Path('./data')\n",
    "\n",
    "# Read dataset\n",
    "data = pd.read_csv(data_dir / 'clinvar_filtered',sep = \"\\t\")"
   ]
  },
  {
   "cell_type": "markdown",
   "metadata": {},
   "source": [
    "<h3> Convert Classes to Pathogenic(1) or Non-Pathogenic(0) </h3>"
   ]
  },
  {
   "cell_type": "code",
   "execution_count": 37,
   "metadata": {},
   "outputs": [],
   "source": [
    "# Extract classes\n",
    "Y = data['CLNSIG']\n",
    "# Drop first column which is meaningless\n",
    "X_raw = data.drop(data.columns[0], axis=1)\n",
    "# Drop classes column\n",
    "X_raw = X_raw.drop(data.columns[1], axis=1)\n",
    "# Convert all entries which are not Pathogenic to Non-Pathogenic\n",
    "Y.loc[Y != \"Pathogenic\"] = \"Non-Pathogenic\"\n",
    "# Assign Pathogenic=1 and Non-Pathogenic=0\n",
    "Y = Y.replace(to_replace=['Pathogenic', 'Non-Pathogenic'], value=[1, 0])"
   ]
  },
  {
   "cell_type": "markdown",
   "metadata": {},
   "source": [
    "<h3> Convert String Attributes to Numeric Categorial Attributes </h3>"
   ]
  },
  {
   "cell_type": "code",
   "execution_count": 38,
   "metadata": {},
   "outputs": [],
   "source": [
    "# LabelEncoder to convert String Attributes to Numeric for column 'ANN[0].EFFECT'\n",
    "from sklearn import preprocessing\n",
    "le = preprocessing.LabelEncoder()\n",
    "le.fit(X_raw['ANN[0].EFFECT'])\n",
    "X_raw['ANN[0].EFFECT'] = le.transform(X_raw['ANN[0].EFFECT'])"
   ]
  },
  {
   "cell_type": "markdown",
   "metadata": {},
   "source": [
    "<h3> Fill NaNs with Mean of that column </h3>"
   ]
  },
  {
   "cell_type": "code",
   "execution_count": 39,
   "metadata": {},
   "outputs": [],
   "source": [
    "# Fill NA's with Mean of the column\n",
    "X_raw['dbNSFP_Polyphen2_HVAR_score'].fillna(value=X_raw['dbNSFP_Polyphen2_HVAR_score'].mean(),inplace=True)\n",
    "X_raw['dbNSFP_Polyphen2_HDIV_score'].fillna(value=X_raw['dbNSFP_Polyphen2_HDIV_score'].mean(),inplace=True)\n",
    "X_raw['dbNSFP_LRT_score'].fillna(value=X_raw['dbNSFP_LRT_score'].mean(),inplace=True)\n",
    "X_raw['CADD'].fillna(value=X_raw['CADD'].mean(),inplace=True)\n",
    "X_raw['dbNSFP_phastCons20way_mammalian'].fillna(value=X_raw['dbNSFP_phastCons20way_mammalian'].mean(),inplace=True)\n",
    "X_raw['dbNSFP_LRT_Omega'].fillna(value=X_raw['dbNSFP_LRT_Omega'].mean(),inplace=True)\n",
    "X_raw['dbNSFP_MutationTaster_score'].fillna(value=X_raw['dbNSFP_MutationTaster_score'].mean(),inplace=True)\n",
    "X_raw['dbNSFP_VEST3_score'].fillna(value=X_raw['dbNSFP_VEST3_score'].mean(),inplace=True)\n",
    "X_raw['dbNSFP_DANN_score'].fillna(value=X_raw['dbNSFP_DANN_score'].mean(),inplace=True)\n",
    "X_raw['dbNSFP_MetaSVM_score'].fillna(value=X_raw['dbNSFP_MetaSVM_score'].mean(),inplace=True)\n",
    "X_raw['dbNSFP_MetaLR_score'].fillna(value=X_raw['dbNSFP_MetaLR_score'].mean(),inplace=True)\n",
    "X_raw['dbNSFP_integrated_fitCons_score'].fillna(value=X_raw['dbNSFP_integrated_fitCons_score'].mean(),inplace=True)\n",
    "X_raw['dbNSFP_GM12878_fitCons_score'].fillna(value=X_raw['dbNSFP_GM12878_fitCons_score'].mean(),inplace=True)\n",
    "X_raw['Eigenraw'].fillna(value=X_raw['Eigenraw'].mean(),inplace=True)\n",
    "X_raw['gnomAD_AF'].fillna(value=X_raw['gnomAD_AF'].mean(),inplace=True)"
   ]
  },
  {
   "cell_type": "markdown",
   "metadata": {},
   "source": [
    "<h3> Normalize Data </h3>"
   ]
  },
  {
   "cell_type": "code",
   "execution_count": 40,
   "metadata": {},
   "outputs": [],
   "source": [
    "# Normalize data\n",
    "X = (X_raw - X_raw.min()) / (X_raw.max() - X_raw.min())\n",
    "# Convert Data into Numpy array\n",
    "X = X.to_numpy()\n",
    "X = X.copy('C')"
   ]
  },
  {
   "cell_type": "markdown",
   "metadata": {},
   "source": [
    "<h3> Split data into train/test </h3>"
   ]
  },
  {
   "cell_type": "code",
   "execution_count": 41,
   "metadata": {},
   "outputs": [],
   "source": [
    "X_train, X_test, Y_train, Y_test = sklearn.model_selection.train_test_split(X, Y)"
   ]
  },
  {
   "cell_type": "markdown",
   "metadata": {},
   "source": [
    "<h3> Convert NumPy data to DMatrix format for XGboost </h3>"
   ]
  },
  {
   "cell_type": "code",
   "execution_count": 42,
   "metadata": {},
   "outputs": [
    {
     "name": "stdout",
     "output_type": "stream",
     "text": [
      "CPU times: user 89.9 ms, sys: 2.88 ms, total: 92.8 ms\n",
      "Wall time: 171 ms\n"
     ]
    }
   ],
   "source": [
    "%%time\n",
    "dtrain = xgb.DMatrix(X_train, label=Y_train)\n",
    "dvalidation = xgb.DMatrix(X_test, label=Y_test)"
   ]
  },
  {
   "cell_type": "markdown",
   "metadata": {},
   "source": [
    "<h3>Set XGBoost Parameters </h3>"
   ]
  },
  {
   "cell_type": "code",
   "execution_count": 43,
   "metadata": {},
   "outputs": [],
   "source": [
    "# instantiate params\n",
    "params = {}\n",
    "classification = True\n",
    "# general params\n",
    "general_params = {'silent': 1}\n",
    "params.update(general_params)\n",
    "\n",
    "# booster params\n",
    "n_gpus = 1  # change this to -1 to use all GPUs available or 0 to use the CPU\n",
    "booster_params = {}\n",
    "\n",
    "if n_gpus != 0:\n",
    "    booster_params['tree_method'] = 'gpu_hist'\n",
    "    booster_params['n_gpus'] = n_gpus   \n",
    "params.update(booster_params)\n",
    "\n",
    "# learning task params\n",
    "learning_task_params = {}\n",
    "if classification:\n",
    "    learning_task_params['eval_metric'] = 'auc'\n",
    "    learning_task_params['objective'] = 'binary:hinge'\n",
    "else:\n",
    "    learning_task_params['eval_metric'] = 'rmse'\n",
    "    learning_task_params['objective'] = 'reg:squarederror'\n",
    "params.update(learning_task_params)"
   ]
  },
  {
   "cell_type": "markdown",
   "metadata": {},
   "source": [
    "<h3>Train Model</h3>"
   ]
  },
  {
   "cell_type": "code",
   "execution_count": 44,
   "metadata": {},
   "outputs": [],
   "source": [
    "# model training settings\n",
    "evallist = [(dvalidation, 'validation'), (dtrain, 'train')]\n",
    "num_round = 300"
   ]
  },
  {
   "cell_type": "code",
   "execution_count": null,
   "metadata": {},
   "outputs": [],
   "source": [
    "%%time\n",
    "bst = xgb.train(params, dtrain, num_round, evallist)"
   ]
  },
  {
   "cell_type": "markdown",
   "metadata": {},
   "source": [
    "<h3>Predict on test data </h3>"
   ]
  },
  {
   "cell_type": "code",
   "execution_count": 46,
   "metadata": {},
   "outputs": [],
   "source": [
    "y_pred = bst.predict(dvalidation)"
   ]
  },
  {
   "cell_type": "markdown",
   "metadata": {},
   "source": [
    "<h3> Confusion Matrix </h3>"
   ]
  },
  {
   "cell_type": "code",
   "execution_count": 47,
   "metadata": {},
   "outputs": [
    {
     "name": "stdout",
     "output_type": "stream",
     "text": [
      "[[48030  3017]\n",
      " [ 3521  6665]]\n"
     ]
    }
   ],
   "source": [
    "print(confusion_matrix(Y_test,y_pred))"
   ]
  },
  {
   "cell_type": "markdown",
   "metadata": {},
   "source": [
    "<h3> Generate Classification Report </h3>"
   ]
  },
  {
   "cell_type": "code",
   "execution_count": 48,
   "metadata": {},
   "outputs": [
    {
     "name": "stdout",
     "output_type": "stream",
     "text": [
      "              precision    recall  f1-score   support\n",
      "\n",
      "           0       0.93      0.94      0.94     51047\n",
      "           1       0.69      0.65      0.67     10186\n",
      "\n",
      "    accuracy                           0.89     61233\n",
      "   macro avg       0.81      0.80      0.80     61233\n",
      "weighted avg       0.89      0.89      0.89     61233\n",
      "\n"
     ]
    }
   ],
   "source": [
    "print(classification_report(Y_test, y_pred))"
   ]
  },
  {
   "cell_type": "markdown",
   "metadata": {},
   "source": [
    "<h3> Calculate Accuracy Store </h3>"
   ]
  },
  {
   "cell_type": "code",
   "execution_count": 49,
   "metadata": {},
   "outputs": [
    {
     "name": "stdout",
     "output_type": "stream",
     "text": [
      "0.8932275080430487\n"
     ]
    }
   ],
   "source": [
    "print(accuracy_score(Y_test,y_pred))"
   ]
  },
  {
   "cell_type": "code",
   "execution_count": 51,
   "metadata": {},
   "outputs": [
    {
     "data": {
      "image/png": "[encoded data removed]",
      "text/plain": [
       "<Figure size 432x288 with 2 Axes>"
      ]
     },
     "metadata": {
      "needs_background": "light"
     },
     "output_type": "display_data"
    }
   ],
   "source": [
    "%matplotlib inline\n",
    "import pandas as pd\n",
    "import seaborn as sn\n",
    "import matplotlib.pyplot as plt\n",
    "\n",
    "data = {'y_Actual':    Y_test,\n",
    "        'y_Predicted': y_pred\n",
    "        }\n",
    "\n",
    "df = pd.DataFrame(data, columns=['y_Actual','y_Predicted'])\n",
    "confusion_matrix = pd.crosstab(df['y_Actual'], df['y_Predicted'], rownames=['Actual'], colnames=['Predicted'])\n",
    "\n",
    "sn.heatmap(confusion_matrix, annot=True)\n",
    "plt.show()"
   ]
  },
  {
   "cell_type": "code",
   "execution_count": null,
   "metadata": {},
   "outputs": [],
   "source": []
  }
 ],
 "metadata": {
  "kernelspec": {
   "display_name": "Python 3",
   "language": "python",
   "name": "python3"
  },
  "language_info": {
   "codemirror_mode": {
    "name": "ipython",
    "version": 3
   },
   "file_extension": ".py",
   "mimetype": "text/x-python",
   "name": "python",
   "nbconvert_exporter": "python",
   "pygments_lexer": "ipython3",
   "version": "3.6.10"
  }
 },
 "nbformat": 4,
 "nbformat_minor": 4
}
